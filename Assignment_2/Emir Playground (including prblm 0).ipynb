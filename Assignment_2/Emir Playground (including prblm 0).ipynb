{
 "cells": [
  {
   "cell_type": "code",
   "execution_count": 1,
   "metadata": {},
   "outputs": [],
   "source": [
    "import nltk\n",
    "from nltk.corpus import brown\n",
    "import matplotlib as mpl\n",
    "import matplotlib.pyplot as plt\n",
    "%matplotlib inline"
   ]
  },
  {
   "cell_type": "code",
   "execution_count": 18,
   "metadata": {},
   "outputs": [],
   "source": [
    "appearing_words = brown.words() #get the words in the whole corpus\n",
    "two_genres = brown.words(categories=[\"news\", \"romance\"]) #get the words only for 2 genres\n",
    "whole_words_freq = nltk.Counter(appearing_words) #frequencies of each word in whole corpus\n",
    "two_genres_freq = nltk.Counter(two_genres) #frequencies of each word in the subgenres"
   ]
  },
  {
   "cell_type": "code",
   "execution_count": 43,
   "metadata": {},
   "outputs": [],
   "source": [
    "tagged_words = brown.tagged_words() #POS"
   ]
  },
  {
   "cell_type": "code",
   "execution_count": 59,
   "metadata": {},
   "outputs": [
    {
     "name": "stdout",
     "output_type": "stream",
     "text": [
      "# of words in corpus:  1161192\n",
      "# of unique words/tokens:  56057\n",
      "# of types:  472\n",
      "Average # of words in a sentence  20.25\n",
      "Average Word Lenght:  4.28 Characters\n"
     ]
    }
   ],
   "source": [
    "print(\"# of words in corpus: \", len(appearing_words)) #counts of words in the corpus\n",
    "print(\"# of unique words/tokens: \", len(whole_words_freq)) #counts of unique words in corpus\n",
    "print(\"# of types: \", len(set(tag for word, tag in tagged_words)))\n",
    "\n",
    "br_sents = brown.sents()\n",
    "avg_wrds_sent = len(appearing_words)/len(br_sents) #avg of words per sentence\n",
    "print(\"Average # of words in a sentence \", round(avg_wrds_sent, 2))\n",
    "\n",
    "lst_leghts = [len(x) for x in appearing_words]\n",
    "average_word_size = sum(lst_leghts)/len(lst_leghts)\n",
    "\n",
    "print(\"Average Word Lenght: \", round(average_word_size,2), \"Characters\")"
   ]
  },
  {
   "cell_type": "code",
   "execution_count": 75,
   "metadata": {},
   "outputs": [],
   "source": [
    "pos_counts = nltk.Counter([tag for word, tag in tagged_words])\n",
    "pos_counts.most_common(10)"
   ]
  },
  {
   "cell_type": "code",
   "execution_count": 110,
   "metadata": {},
   "outputs": [
    {
     "data": {
      "text/plain": [
       "<function matplotlib.pyplot.show(close=None, block=None)>"
      ]
     },
     "execution_count": 110,
     "metadata": {},
     "output_type": "execute_result"
    },
    {
     "data": {
      "image/png": "[encoded data removed]",
      "text/plain": [
       "<Figure size 640x480 with 1 Axes>"
      ]
     },
     "metadata": {},
     "output_type": "display_data"
    }
   ],
   "source": [
    "top_10_words = [freq for word, freq in whole_words_freq.most_common(1000)]\n",
    "my_indecies = [i for i in range(1, 1001)]\n",
    "\n",
    "plt.plot(my_indecies, top_10_words)\n",
    "plt.show"
   ]
  },
  {
   "cell_type": "code",
   "execution_count": 2,
   "metadata": {},
   "outputs": [],
   "source": [
    "import numpy as np\n",
    "\n",
    "\n",
    "with open('C:/Users/ameer/Desktop/A2_2024/brown_vocab_100.txt', 'r') as file:\n",
    "    # Read the entire contents of the file such that each line forms its own element in a list\n",
    "    vocab = file.read().split()\n",
    "\n",
    "#load the indices dictionary\n",
    "word_index_dict = {}\n",
    "for i, line in enumerate(vocab):\n",
    "    #TODO: import part 1 code to build dictionary\n",
    "    word_index_dict[line.rstrip()] = i \n",
    "\n",
    "with open(\"C:/Users/ameer/Desktop/A2_2024/brown_100.txt\") as file:\n",
    "    f = file.readlines()\n",
    "\n",
    "counts = np.zeros(len(vocab)) #TODO: initialize counts to a zero vector\n",
    "\n",
    "\n",
    "#TODO: iterate through file and update counts\n",
    "for i, sent in enumerate(f):\n",
    "    stripping = sent.rstrip().lower().split() #go through each sentence in the file, remove <s> and </s>, strip the whitespace, convert to lowercase and split the sentence to individual words\n",
    "    for words in stripping: #go through each word of each sentence\n",
    "        counts[list(word_index_dict.keys()).index(words)] += 1 #update the number of words mentioned in the given file"
   ]
  },
  {
   "cell_type": "code",
   "execution_count": 3,
   "metadata": {},
   "outputs": [
    {
     "data": {
      "text/plain": [
       "array([0.00040519, 0.00040519, 0.00040519, 0.00040519, 0.00081037,\n",
       "       0.00040519, 0.00162075, 0.00040519, 0.00081037, 0.00040519,\n",
       "       0.00040519, 0.00040519, 0.00081037, 0.00040519, 0.00081037,\n",
       "       0.00081037, 0.00040519, 0.00040519, 0.02228525, 0.00081037,\n",
       "       0.00040519, 0.00081037, 0.00121556, 0.00040519, 0.00121556,\n",
       "       0.00081037, 0.00040519, 0.00162075, 0.00040519, 0.00040519,\n",
       "       0.00081037, 0.00040519, 0.00162075, 0.00040519, 0.00121556,\n",
       "       0.00081037, 0.00081037, 0.00081037, 0.00040519, 0.00040519,\n",
       "       0.00202593, 0.00040519, 0.00081037, 0.00081037, 0.00202593,\n",
       "       0.00040519, 0.00040519, 0.00040519, 0.00162075, 0.0028363 ,\n",
       "       0.00040519, 0.00081037, 0.00040519, 0.00081037, 0.00040519,\n",
       "       0.00040519, 0.00040519, 0.00040519, 0.00040519, 0.00040519,\n",
       "       0.00040519, 0.00081037, 0.00040519, 0.00040519, 0.00040519,\n",
       "       0.00040519, 0.00040519, 0.00040519, 0.00040519, 0.00040519,\n",
       "       0.00040519, 0.00040519, 0.00243112, 0.00040519, 0.00040519,\n",
       "       0.00081037, 0.00081037, 0.00040519, 0.00040519, 0.00202593,\n",
       "       0.00729335, 0.00040519, 0.00040519, 0.00081037, 0.00040519,\n",
       "       0.00040519, 0.00040519, 0.00040519, 0.00081037, 0.00040519,\n",
       "       0.00040519, 0.00040519, 0.00040519, 0.00040519, 0.00040519,\n",
       "       0.00040519, 0.00040519, 0.00081037, 0.00081037, 0.00081037,\n",
       "       0.00081037, 0.00040519, 0.00081037, 0.00081037, 0.00121556,\n",
       "       0.00040519, 0.00040519, 0.00202593, 0.00040519, 0.00040519,\n",
       "       0.00040519, 0.00040519, 0.0060778 , 0.00040519, 0.00040519,\n",
       "       0.00040519, 0.00040519, 0.00040519, 0.00040519, 0.00162075,\n",
       "       0.00040519, 0.00364668, 0.04051864, 0.00040519, 0.00040519,\n",
       "       0.00040519, 0.00121556, 0.00040519, 0.00040519, 0.00040519,\n",
       "       0.00040519, 0.00040519, 0.00121556, 0.01418152, 0.00040519,\n",
       "       0.00040519, 0.00121556, 0.00040519, 0.00040519, 0.00040519,\n",
       "       0.00040519, 0.00081037, 0.00040519, 0.00040519, 0.00121556,\n",
       "       0.00040519, 0.00040519, 0.00364668, 0.00202593, 0.00040519,\n",
       "       0.00040519, 0.00040519, 0.00040519, 0.00040519, 0.00567261,\n",
       "       0.00040519, 0.00040519, 0.00040519, 0.00040519, 0.00081037,\n",
       "       0.00040519, 0.00486224, 0.00040519, 0.00040519, 0.00040519,\n",
       "       0.00040519, 0.00040519, 0.00040519, 0.00040519, 0.00081037,\n",
       "       0.00040519, 0.00162075, 0.00081037, 0.00040519, 0.00040519,\n",
       "       0.00040519, 0.00040519, 0.00040519, 0.00040519, 0.00162075,\n",
       "       0.00040519, 0.00040519, 0.00040519, 0.00040519, 0.00162075,\n",
       "       0.00121556, 0.00040519, 0.02188006, 0.00040519, 0.00040519,\n",
       "       0.00121556, 0.00040519, 0.00081037, 0.00040519, 0.00121556,\n",
       "       0.00040519, 0.00121556, 0.00081037, 0.00040519, 0.00040519,\n",
       "       0.00040519, 0.00040519, 0.00040519, 0.00081037, 0.00081037,\n",
       "       0.00162075, 0.00040519, 0.00040519, 0.00162075, 0.00040519,\n",
       "       0.00081037, 0.00040519, 0.00040519, 0.0356564 , 0.00040519,\n",
       "       0.00040519, 0.00040519, 0.00040519, 0.00040519, 0.00162075,\n",
       "       0.00081037, 0.00081037, 0.00040519, 0.00040519, 0.00040519,\n",
       "       0.00040519, 0.00162075, 0.00040519, 0.00121556, 0.00243112,\n",
       "       0.00040519, 0.00040519, 0.00040519, 0.00040519, 0.00121556,\n",
       "       0.00040519, 0.00040519, 0.00040519, 0.00040519, 0.00081037,\n",
       "       0.00040519, 0.00202593, 0.00040519, 0.00040519, 0.00040519,\n",
       "       0.00040519, 0.00040519, 0.00040519, 0.00121556, 0.00040519,\n",
       "       0.00040519, 0.00202593, 0.00040519, 0.00040519, 0.00040519,\n",
       "       0.00040519, 0.00040519, 0.00040519, 0.00081037, 0.00081037,\n",
       "       0.00040519, 0.00040519, 0.00040519, 0.00081037, 0.00121556,\n",
       "       0.00040519, 0.00040519, 0.00040519, 0.00040519, 0.00040519,\n",
       "       0.00040519, 0.00121556, 0.00040519, 0.00040519, 0.00081037,\n",
       "       0.00040519, 0.00040519, 0.00040519, 0.00040519, 0.00040519,\n",
       "       0.00040519, 0.00162075, 0.00040519, 0.00081037, 0.00040519,\n",
       "       0.00040519, 0.00040519, 0.00081037, 0.00040519, 0.00040519,\n",
       "       0.00040519, 0.00162075, 0.00040519, 0.00040519, 0.00121556,\n",
       "       0.00040519, 0.00040519, 0.00040519, 0.00162075, 0.00040519,\n",
       "       0.00040519, 0.00121556, 0.00040519, 0.00162075, 0.00040519,\n",
       "       0.00040519, 0.00040519, 0.00040519, 0.00040519, 0.00162075,\n",
       "       0.00081037, 0.00040519, 0.00040519, 0.00040519, 0.00364668,\n",
       "       0.00040519, 0.00040519, 0.00040519, 0.00040519, 0.00040519,\n",
       "       0.00040519, 0.00081037, 0.00040519, 0.00040519, 0.00081037,\n",
       "       0.00121556, 0.00121556, 0.00040519, 0.00040519, 0.00040519,\n",
       "       0.00202593, 0.00040519, 0.00040519, 0.00081037, 0.01134522,\n",
       "       0.00040519, 0.00081037, 0.00040519, 0.00040519, 0.00040519,\n",
       "       0.00081037, 0.00040519, 0.00040519, 0.00081037, 0.00040519,\n",
       "       0.00040519, 0.00121556, 0.00040519, 0.00040519, 0.00040519,\n",
       "       0.00081037, 0.00040519, 0.00040519, 0.01620746, 0.00040519,\n",
       "       0.00040519, 0.00040519, 0.00040519, 0.00040519, 0.00081037,\n",
       "       0.00202593, 0.00040519, 0.00162075, 0.00081037, 0.00040519,\n",
       "       0.00081037, 0.00040519, 0.00040519, 0.00081037, 0.00121556,\n",
       "       0.00162075, 0.00121556, 0.00081037, 0.00526742, 0.00040519,\n",
       "       0.00040519, 0.00081037, 0.00040519, 0.00040519, 0.00040519,\n",
       "       0.00040519, 0.00040519, 0.00040519, 0.00081037, 0.00040519,\n",
       "       0.00040519, 0.00040519, 0.00081037, 0.00040519, 0.00040519,\n",
       "       0.00040519, 0.00040519, 0.00040519, 0.00040519, 0.00081037,\n",
       "       0.00081037, 0.00081037, 0.00040519, 0.00081037, 0.00040519,\n",
       "       0.00040519, 0.00040519, 0.00040519, 0.00040519, 0.00040519,\n",
       "       0.00040519, 0.00081037, 0.00040519, 0.00081037, 0.00040519,\n",
       "       0.00040519, 0.00040519, 0.00081037, 0.00040519, 0.00040519,\n",
       "       0.00121556, 0.00040519, 0.00040519, 0.00040519, 0.00243112,\n",
       "       0.00202593, 0.00040519, 0.00081037, 0.00040519, 0.00040519,\n",
       "       0.00040519, 0.00040519, 0.00040519, 0.00040519, 0.00040519,\n",
       "       0.00243112, 0.00040519, 0.00040519, 0.00081037, 0.00040519,\n",
       "       0.00040519, 0.00040519, 0.00081037, 0.00040519, 0.00040519,\n",
       "       0.00040519, 0.00040519, 0.00040519, 0.00040519, 0.00040519,\n",
       "       0.00040519, 0.00040519, 0.00121556, 0.00040519, 0.00040519,\n",
       "       0.00040519, 0.00040519, 0.00040519, 0.00040519, 0.00040519,\n",
       "       0.00040519, 0.00040519, 0.00040519, 0.00040519, 0.00040519,\n",
       "       0.00040519, 0.00121556, 0.00040519, 0.00040519, 0.00202593,\n",
       "       0.00081037, 0.00040519, 0.00081037, 0.00040519, 0.00040519,\n",
       "       0.00040519, 0.00972447, 0.00040519, 0.00040519, 0.00162075,\n",
       "       0.00202593, 0.00486224, 0.00040519, 0.00081037, 0.00040519,\n",
       "       0.00081037, 0.00081037, 0.00081037, 0.00040519, 0.00081037,\n",
       "       0.00040519, 0.00040519, 0.00040519, 0.00121556, 0.00040519,\n",
       "       0.00040519, 0.00040519, 0.00040519, 0.00040519, 0.00162075,\n",
       "       0.00121556, 0.00040519, 0.00040519, 0.00040519, 0.00081037,\n",
       "       0.00040519, 0.00040519, 0.00040519, 0.00081037, 0.00040519,\n",
       "       0.00040519, 0.00040519, 0.00040519, 0.00040519, 0.00040519,\n",
       "       0.00040519, 0.00081037, 0.00040519, 0.00040519, 0.00081037,\n",
       "       0.00040519, 0.00040519, 0.00040519, 0.00040519, 0.00040519,\n",
       "       0.00081037, 0.00040519, 0.0028363 , 0.03606159, 0.00040519,\n",
       "       0.00081037, 0.00040519, 0.00162075, 0.00081037, 0.00040519,\n",
       "       0.00162075, 0.00040519, 0.00040519, 0.00202593, 0.00040519,\n",
       "       0.00040519, 0.00081037, 0.00040519, 0.00040519, 0.00202593,\n",
       "       0.00040519, 0.00040519, 0.00040519, 0.00040519, 0.00081037,\n",
       "       0.00040519, 0.00040519, 0.00243112, 0.00121556, 0.00040519,\n",
       "       0.00081037, 0.00567261, 0.00040519, 0.00040519, 0.00121556,\n",
       "       0.00040519, 0.00040519, 0.00081037, 0.00040519, 0.00040519,\n",
       "       0.00040519, 0.00040519, 0.00081037, 0.00040519, 0.00162075,\n",
       "       0.00040519, 0.00486224, 0.00769854, 0.00040519, 0.00040519,\n",
       "       0.00040519, 0.01620746, 0.00040519, 0.00040519, 0.00040519,\n",
       "       0.00040519, 0.00121556, 0.00040519, 0.00040519, 0.00081037,\n",
       "       0.00040519, 0.00040519, 0.00162075, 0.00040519, 0.00081037,\n",
       "       0.00040519, 0.00040519, 0.00040519, 0.00040519, 0.00040519,\n",
       "       0.00040519, 0.00121556, 0.00040519, 0.00040519, 0.00040519,\n",
       "       0.00040519, 0.00040519, 0.00040519, 0.00040519, 0.00202593,\n",
       "       0.00040519, 0.00040519, 0.00040519, 0.00081037, 0.06320908,\n",
       "       0.00081037, 0.00162075, 0.00040519, 0.00081037, 0.00040519,\n",
       "       0.00040519, 0.00081037, 0.00081037, 0.00040519, 0.00040519,\n",
       "       0.00040519, 0.00040519, 0.00040519, 0.00081037, 0.00040519,\n",
       "       0.04051864, 0.00040519, 0.00040519, 0.00040519, 0.00040519,\n",
       "       0.00162075, 0.00121556, 0.00040519, 0.00040519, 0.00081037,\n",
       "       0.00081037, 0.00040519, 0.00405186, 0.00040519, 0.00121556,\n",
       "       0.00040519, 0.00040519, 0.00040519, 0.00040519, 0.00040519,\n",
       "       0.00081037, 0.00040519, 0.00040519, 0.00040519, 0.00040519,\n",
       "       0.00040519, 0.00081037, 0.00040519, 0.00081037, 0.00040519,\n",
       "       0.00040519, 0.00040519, 0.00081037, 0.00040519, 0.00081037,\n",
       "       0.00040519, 0.00040519, 0.00162075, 0.00040519, 0.00040519,\n",
       "       0.00040519, 0.00040519, 0.00040519, 0.00040519, 0.00081037,\n",
       "       0.00040519, 0.00040519, 0.00040519, 0.00081037, 0.00081037,\n",
       "       0.00243112, 0.00081037, 0.00081037, 0.00040519, 0.00040519,\n",
       "       0.00121556, 0.00040519, 0.00081037, 0.00040519, 0.00040519,\n",
       "       0.00040519, 0.00202593, 0.0089141 , 0.00040519, 0.00081037,\n",
       "       0.00040519, 0.00040519, 0.00040519, 0.00040519, 0.00850891,\n",
       "       0.00243112, 0.00040519, 0.00081037, 0.00040519, 0.00040519,\n",
       "       0.00405186, 0.00081037, 0.00081037, 0.00405186, 0.00040519,\n",
       "       0.00040519, 0.02714749, 0.00040519, 0.00081037, 0.00081037,\n",
       "       0.00040519, 0.00040519, 0.00040519, 0.00040519, 0.00121556,\n",
       "       0.00040519, 0.00040519, 0.00162075, 0.00040519, 0.00040519,\n",
       "       0.00040519, 0.00121556, 0.00040519, 0.00121556, 0.00040519,\n",
       "       0.00040519, 0.00040519, 0.00040519, 0.00040519, 0.00040519,\n",
       "       0.00162075, 0.00121556, 0.00040519, 0.00081037, 0.00081037,\n",
       "       0.00040519, 0.00040519, 0.00040519, 0.00445705, 0.00040519,\n",
       "       0.00040519, 0.00081037, 0.00040519, 0.00081037, 0.00081037,\n",
       "       0.00729335, 0.00040519, 0.00081037, 0.00243112, 0.00081037,\n",
       "       0.00324149, 0.00040519, 0.00121556, 0.00040519, 0.00040519,\n",
       "       0.00081037, 0.00040519, 0.00040519, 0.00040519, 0.00243112,\n",
       "       0.0028363 , 0.00040519, 0.00081037, 0.00040519, 0.00040519,\n",
       "       0.00121556, 0.00040519, 0.00040519, 0.00040519, 0.00081037,\n",
       "       0.00081037, 0.00040519, 0.00121556, 0.00040519, 0.00040519,\n",
       "       0.00202593, 0.00567261, 0.00040519, 0.00162075, 0.00040519,\n",
       "       0.00040519, 0.00040519, 0.00081037, 0.01377634, 0.00040519,\n",
       "       0.00526742, 0.00040519, 0.00364668, 0.00040519, 0.00121556,\n",
       "       0.00040519, 0.00162075, 0.00081037, 0.00040519, 0.00121556,\n",
       "       0.00081037, 0.00081037, 0.00040519, 0.00364668, 0.00081037,\n",
       "       0.00040519, 0.00040519, 0.00040519, 0.00081037, 0.00040519,\n",
       "       0.00040519, 0.00040519, 0.00121556, 0.00081037, 0.00081037,\n",
       "       0.00081037, 0.00040519, 0.00081037, 0.00081037, 0.00040519,\n",
       "       0.00081037, 0.00243112, 0.00364668])"
      ]
     },
     "execution_count": 3,
     "metadata": {},
     "output_type": "execute_result"
    }
   ],
   "source": [
    "probs = counts / (np.sum(counts))\n",
    "probs"
   ]
  }
 ],
 "metadata": {
  "kernelspec": {
   "display_name": "base",
   "language": "python",
   "name": "python3"
  },
  "language_info": {
   "codemirror_mode": {
    "name": "ipython",
    "version": 3
   },
   "file_extension": ".py",
   "mimetype": "text/x-python",
   "name": "python",
   "nbconvert_exporter": "python",
   "pygments_lexer": "ipython3",
   "version": "3.11.5"
  }
 },
 "nbformat": 4,
 "nbformat_minor": 2
}
